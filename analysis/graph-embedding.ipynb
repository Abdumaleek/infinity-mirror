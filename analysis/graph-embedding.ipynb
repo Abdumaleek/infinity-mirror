{
 "cells": [
  {
   "cell_type": "code",
   "execution_count": 1,
   "metadata": {},
   "outputs": [],
   "source": [
    "import netlsd as net\n",
    "import networkx as nx\n",
    "import numpy as np\n",
    "import seaborn as sns\n",
    "import matplotlib.pyplot as plt\n",
    "import pandas as pd\n",
    "from sklearn import decomposition\n",
    "from sklearn.manifold import TSNE"
   ]
  },
  {
   "cell_type": "code",
   "execution_count": 34,
   "metadata": {},
   "outputs": [
    {
     "ename": "NameError",
     "evalue": "name 'pwd' is not defined",
     "output_type": "error",
     "traceback": [
      "\u001b[0;31m----------------------------------------\u001b[0m",
      "\u001b[0;31mNameError\u001b[0mTraceback (most recent call last)",
      "\u001b[0;32m<ipython-input-34-9ab815ed31d5>\u001b[0m in \u001b[0;36m<module>\u001b[0;34m\u001b[0m\n\u001b[1;32m      4\u001b[0m \u001b[0msys\u001b[0m\u001b[0;34m.\u001b[0m\u001b[0mpath\u001b[0m\u001b[0;34m.\u001b[0m\u001b[0mextend\u001b[0m\u001b[0;34m(\u001b[0m\u001b[0;34m[\u001b[0m\u001b[0;34m'./..'\u001b[0m\u001b[0;34m]\u001b[0m\u001b[0;34m)\u001b[0m  \u001b[0;31m# have to add the project path manually to the Python path\u001b[0m\u001b[0;34m\u001b[0m\u001b[0;34m\u001b[0m\u001b[0m\n\u001b[1;32m      5\u001b[0m \u001b[0mos\u001b[0m\u001b[0;34m.\u001b[0m\u001b[0mchdir\u001b[0m\u001b[0;34m(\u001b[0m\u001b[0;34m'./..'\u001b[0m\u001b[0;34m)\u001b[0m\u001b[0;34m\u001b[0m\u001b[0;34m\u001b[0m\u001b[0m\n\u001b[0;32m----> 6\u001b[0;31m \u001b[0mpwd\u001b[0m\u001b[0;34m\u001b[0m\u001b[0;34m\u001b[0m\u001b[0m\n\u001b[0m",
      "\u001b[0;31mNameError\u001b[0m: name 'pwd' is not defined"
     ]
    }
   ],
   "source": [
    "import sys\n",
    "import os\n",
    "\n",
    "sys.path.extend(['./..'])  # have to add the project path manually to the Python path\n",
    "os.chdir('./..')"
   ]
  },
  {
   "cell_type": "code",
   "execution_count": 35,
   "metadata": {},
   "outputs": [],
   "source": [
    "from src.utils import load_pickle\n",
    "from src.Tree import TreeNode"
   ]
  },
  {
   "cell_type": "code",
   "execution_count": 2,
   "metadata": {},
   "outputs": [],
   "source": [
    "%matplotlib inline"
   ]
  },
  {
   "cell_type": "code",
   "execution_count": 164,
   "metadata": {},
   "outputs": [],
   "source": [
    "plt.rcParams['figure.figsize'] = (10, 7)"
   ]
  },
  {
   "cell_type": "code",
   "execution_count": 96,
   "metadata": {},
   "outputs": [],
   "source": [
    "def get_graph_vec(g: nx.Graph, kernel: str='heat', dim: int=250, eigenvalues: int=20) -> np.ndarray:\n",
    "    return net.netlsd(g, kernel=kernel, timescales=np.logspace(-2, 2, dim), eigenvalues=eigenvalues)"
   ]
  },
  {
   "cell_type": "code",
   "execution_count": 97,
   "metadata": {},
   "outputs": [],
   "source": [
    "def compare_graphs(g1: nx.Graph, g2: nx.Graph, kernel: str='heat', dim: int=250, eigenvalues: int=20) -> float:\n",
    "    g_vec1 = get_graph_vec(g=g1, kernel=kernel, dim=dim, eigenvalues=eigenvalues)\n",
    "    g_vec2 = get_graph_vec(g=g2, kernel=kernel, dim=dim, eigenvalues=eigenvalues)\n",
    "    return net.compare(g_vec1, g_vec2)"
   ]
  },
  {
   "cell_type": "markdown",
   "metadata": {},
   "source": [
    "## lets try out some plotting"
   ]
  },
  {
   "cell_type": "code",
   "execution_count": 5,
   "metadata": {},
   "outputs": [],
   "source": [
    "dim = 250"
   ]
  },
  {
   "cell_type": "code",
   "execution_count": 6,
   "metadata": {},
   "outputs": [],
   "source": [
    "g_orig = nx.karate_club_graph()"
   ]
  },
  {
   "cell_type": "code",
   "execution_count": 7,
   "metadata": {},
   "outputs": [],
   "source": [
    "random_graphs = [nx.configuration_model(deg_sequence=[d for n, d in g_orig.degree()], create_using=nx.Graph) \n",
    "                 for _ in range(10)]"
   ]
  },
  {
   "cell_type": "code",
   "execution_count": 8,
   "metadata": {},
   "outputs": [],
   "source": [
    "rows = {'name': ['orig'] + [f'rand_{i+1}' for i in range(len(random_graphs))],\n",
    "       'graph': [g_orig] + random_graphs}\n",
    "df = pd.DataFrame(rows)"
   ]
  },
  {
   "cell_type": "code",
   "execution_count": 9,
   "metadata": {},
   "outputs": [],
   "source": [
    "vecs = np.zeros((1+len(random_graphs), dim))\n",
    "vecs[0, :] = get_graph_vec(g_orig, dim=dim)\n",
    "for i, random_graph in enumerate(random_graphs):\n",
    "    vecs[i+1, :] = get_graph_vec(random_graph, dim=dim)"
   ]
  },
  {
   "cell_type": "code",
   "execution_count": 10,
   "metadata": {},
   "outputs": [],
   "source": [
    "df = pd.concat([df, pd.DataFrame(vecs)], axis=1)"
   ]
  },
  {
   "cell_type": "code",
   "execution_count": 11,
   "metadata": {},
   "outputs": [],
   "source": [
    "pca = decomposition.PCA(n_components=2)\n",
    "graph_pca = pca.fit_transform(df.iloc[:, 2:])"
   ]
  },
  {
   "cell_type": "code",
   "execution_count": 31,
   "metadata": {},
   "outputs": [
    {
     "data": {
      "image/png": "[encoded data removed]",
      "text/plain": [
       "<Figure size 720x504 with 1 Axes>"
      ]
     },
     "metadata": {
      "needs_background": "light"
     },
     "output_type": "display_data"
    }
   ],
   "source": [
    "plt.title('PCA')\n",
    "sns.scatterplot(x=graph_pca[:, 0], y=graph_pca[:, 1]);\n",
    "\n",
    "ax = plt.gca()\n",
    "for i in range(graph_pca.shape[0]):\n",
    "    x, y = graph_pca[i,: ]\n",
    "    ax.text(x+.01, y, str(i))"
   ]
  },
  {
   "cell_type": "code",
   "execution_count": 13,
   "metadata": {},
   "outputs": [],
   "source": [
    "tsne = TSNE(n_components=2)\n",
    "graph_tsne = tsne.fit_transform(df.iloc[:, 2:])"
   ]
  },
  {
   "cell_type": "code",
   "execution_count": 32,
   "metadata": {},
   "outputs": [
    {
     "data": {
      "image/png": "[encoded data removed]",
      "text/plain": [
       "<Figure size 720x504 with 1 Axes>"
      ]
     },
     "metadata": {
      "needs_background": "light"
     },
     "output_type": "display_data"
    }
   ],
   "source": [
    "plt.title('tSNE')\n",
    "sns.scatterplot(x=graph_tsne[:, 0], y=graph_tsne[:, 1]);\n",
    "\n",
    "ax = plt.gca()\n",
    "for i in range(graph_tsne.shape[0]):\n",
    "    x, y = graph_tsne[i,: ]\n",
    "    ax.text(x+0.015, y+0.75, str(i))"
   ]
  },
  {
   "cell_type": "markdown",
   "metadata": {},
   "source": [
    "## let's do the infinity mirror stuff"
   ]
  },
  {
   "cell_type": "code",
   "execution_count": 180,
   "metadata": {},
   "outputs": [],
   "source": [
    "tsne_2 = TSNE(n_components=2)\n",
    "pca_2 = decomposition.PCA(n_components=2)"
   ]
  },
  {
   "cell_type": "code",
   "execution_count": 181,
   "metadata": {},
   "outputs": [],
   "source": [
    "tsne_1 = TSNE(n_components=1)\n",
    "pca_1 = decomposition.PCA(n_components=1)"
   ]
  },
  {
   "cell_type": "code",
   "execution_count": 141,
   "metadata": {},
   "outputs": [],
   "source": [
    "def get_row(root, cols, name, model):\n",
    "    for tnode in [root] + list(root.descendants):\n",
    "        row = {'name': name, 'level': tnode.depth, 'model': model}\n",
    "\n",
    "        for i, x in enumerate(get_graph_vec(tnode.graph, dim=dim)):\n",
    "            row[f'v{i}'] = x\n",
    "\n",
    "        for col in cols[-4: ]:\n",
    "            row[col] = None\n",
    "        yield row"
   ]
  },
  {
   "cell_type": "code",
   "execution_count": 175,
   "metadata": {},
   "outputs": [
    {
     "name": "stdout",
     "output_type": "stream",
     "text": [
      "reading /data/dgonza26/clique-ring-500-4/CNRG/fast_20_1.pkl.gz\n",
      "reading /data/dgonza26/clique-ring-500-4/CNRG/fast_20_2.pkl.gz\n",
      "reading /data/dgonza26/clique-ring-500-4/CNRG/fast_20_3.pkl.gz\n",
      "reading /data/dgonza26/clique-ring-500-4/CNRG/fast_20_4.pkl.gz\n",
      "reading /data/dgonza26/clique-ring-500-4/CNRG/fast_20_5.pkl.gz\n",
      "reading /data/dgonza26/clique-ring-500-4/CNRG/fast_20_6.pkl.gz\n",
      "reading /data/dgonza26/clique-ring-500-4/CNRG/fast_20_7.pkl.gz\n",
      "reading /data/dgonza26/clique-ring-500-4/CNRG/fast_20_8.pkl.gz\n",
      "reading /data/dgonza26/clique-ring-500-4/CNRG/fast_20_9.pkl.gz\n",
      "reading /data/dgonza26/clique-ring-500-4/CNRG/fast_20_10.pkl.gz\n",
      "reading /data/dgonza26/clique-ring-500-4/CNRG/fast_20_11.pkl.gz\n",
      "reading /data/dgonza26/clique-ring-500-4/CNRG/fast_20_12.pkl.gz\n",
      "reading /data/dgonza26/clique-ring-500-4/CNRG/fast_20_13.pkl.gz\n",
      "reading /data/dgonza26/clique-ring-500-4/CNRG/fast_20_14.pkl.gz\n",
      "reading /data/dgonza26/clique-ring-500-4/CNRG/fast_20_15.pkl.gz\n",
      "reading /data/dgonza26/clique-ring-500-4/CNRG/fast_20_16.pkl.gz\n",
      "reading /data/dgonza26/clique-ring-500-4/CNRG/fast_20_17.pkl.gz\n",
      "reading /data/dgonza26/clique-ring-500-4/CNRG/fast_20_18.pkl.gz\n",
      "reading /data/dgonza26/clique-ring-500-4/CNRG/fast_20_19.pkl.gz\n",
      "reading /data/dgonza26/clique-ring-500-4/CNRG/fast_20_20.pkl.gz\n"
     ]
    }
   ],
   "source": [
    "data_path = '/data/dgonza26'\n",
    "name = 'clique-ring-500-4'\n",
    "model = 'CNRG'\n",
    "dim = 250\n",
    "cols = ['name', 'model', 'level']\n",
    "cols.extend([f'v{i}' for i in range(dim)])\n",
    "cols.extend(['pca_x', 'pca_y', 'tsne_x', 'tsne_y'])\n",
    "\n",
    "rows = {col: [] for col in cols}\n",
    "T = 20\n",
    "for trial in range(1, T+1):\n",
    "    pickle_path = f'{data_path}/{name}/{model}/fast_20_{trial}.pkl.gz'\n",
    "    print('reading', pickle_path)\n",
    "    root = load_pickle(pickle_path)\n",
    "    for row in get_row(root, cols, name, model):\n",
    "        for key, val in row.items():\n",
    "            rows[key].append(val)\n",
    "\n",
    "df = pd.DataFrame(rows)"
   ]
  },
  {
   "cell_type": "code",
   "execution_count": 135,
   "metadata": {},
   "outputs": [],
   "source": [
    "df.to_csv(f'./analysis/csv/{name}-{model}-{T}-embed.csv', index=False)"
   ]
  },
  {
   "cell_type": "code",
   "execution_count": 134,
   "metadata": {},
   "outputs": [
    {
     "data": {
      "text/plain": [
       "'/home/ssikdar/infinity-mirror'"
      ]
     },
     "execution_count": 134,
     "metadata": {},
     "output_type": "execute_result"
    }
   ],
   "source": [
    "pwd"
   ]
  },
  {
   "cell_type": "code",
   "execution_count": 145,
   "metadata": {},
   "outputs": [
    {
     "data": {
      "text/plain": [
       "(420, 257)"
      ]
     },
     "execution_count": 145,
     "metadata": {},
     "output_type": "execute_result"
    }
   ],
   "source": [
    "df.shape"
   ]
  },
  {
   "cell_type": "code",
   "execution_count": 139,
   "metadata": {},
   "outputs": [
    {
     "data": {
      "text/html": [
       "<div>\n",
       "<style scoped>\n",
       "    .dataframe tbody tr th:only-of-type {\n",
       "        vertical-align: middle;\n",
       "    }\n",
       "\n",
       "    .dataframe tbody tr th {\n",
       "        vertical-align: top;\n",
       "    }\n",
       "\n",
       "    .dataframe thead th {\n",
       "        text-align: right;\n",
       "    }\n",
       "</style>\n",
       "<table border=\"1\" class=\"dataframe\">\n",
       "  <thead>\n",
       "    <tr style=\"text-align: right;\">\n",
       "      <th></th>\n",
       "      <th>name</th>\n",
       "      <th>model</th>\n",
       "      <th>level</th>\n",
       "      <th>v0</th>\n",
       "      <th>v1</th>\n",
       "      <th>v2</th>\n",
       "      <th>v3</th>\n",
       "      <th>v4</th>\n",
       "      <th>v5</th>\n",
       "      <th>v6</th>\n",
       "      <th>...</th>\n",
       "      <th>v244</th>\n",
       "      <th>v245</th>\n",
       "      <th>v246</th>\n",
       "      <th>v247</th>\n",
       "      <th>v248</th>\n",
       "      <th>v249</th>\n",
       "      <th>pca_x</th>\n",
       "      <th>pca_y</th>\n",
       "      <th>tsne_x</th>\n",
       "      <th>tsne_y</th>\n",
       "    </tr>\n",
       "  </thead>\n",
       "  <tbody>\n",
       "    <tr>\n",
       "      <th>0</th>\n",
       "      <td>clique-ring-500-4</td>\n",
       "      <td>Chung-Lu</td>\n",
       "      <td>0</td>\n",
       "      <td>0.992536</td>\n",
       "      <td>0.992256</td>\n",
       "      <td>0.991966</td>\n",
       "      <td>0.991665</td>\n",
       "      <td>0.991352</td>\n",
       "      <td>0.991028</td>\n",
       "      <td>0.990692</td>\n",
       "      <td>...</td>\n",
       "      <td>0.016956</td>\n",
       "      <td>0.016664</td>\n",
       "      <td>0.016382</td>\n",
       "      <td>0.01611</td>\n",
       "      <td>0.015847</td>\n",
       "      <td>0.015593</td>\n",
       "      <td>1.895836e-14</td>\n",
       "      <td>-3.815049e-15</td>\n",
       "      <td>-40.722855</td>\n",
       "      <td>-17.289858</td>\n",
       "    </tr>\n",
       "    <tr>\n",
       "      <th>1</th>\n",
       "      <td>clique-ring-500-4</td>\n",
       "      <td>Chung-Lu</td>\n",
       "      <td>1</td>\n",
       "      <td>0.992536</td>\n",
       "      <td>0.992256</td>\n",
       "      <td>0.991966</td>\n",
       "      <td>0.991665</td>\n",
       "      <td>0.991352</td>\n",
       "      <td>0.991028</td>\n",
       "      <td>0.990692</td>\n",
       "      <td>...</td>\n",
       "      <td>0.016956</td>\n",
       "      <td>0.016664</td>\n",
       "      <td>0.016382</td>\n",
       "      <td>0.01611</td>\n",
       "      <td>0.015847</td>\n",
       "      <td>0.015593</td>\n",
       "      <td>1.391170e-14</td>\n",
       "      <td>1.135090e-14</td>\n",
       "      <td>-45.495399</td>\n",
       "      <td>5.305357</td>\n",
       "    </tr>\n",
       "    <tr>\n",
       "      <th>2</th>\n",
       "      <td>clique-ring-500-4</td>\n",
       "      <td>Chung-Lu</td>\n",
       "      <td>2</td>\n",
       "      <td>0.992536</td>\n",
       "      <td>0.992256</td>\n",
       "      <td>0.991966</td>\n",
       "      <td>0.991665</td>\n",
       "      <td>0.991352</td>\n",
       "      <td>0.991028</td>\n",
       "      <td>0.990692</td>\n",
       "      <td>...</td>\n",
       "      <td>0.016956</td>\n",
       "      <td>0.016664</td>\n",
       "      <td>0.016382</td>\n",
       "      <td>0.01611</td>\n",
       "      <td>0.015847</td>\n",
       "      <td>0.015593</td>\n",
       "      <td>-1.356415e-14</td>\n",
       "      <td>1.865733e-14</td>\n",
       "      <td>13.540232</td>\n",
       "      <td>34.715652</td>\n",
       "    </tr>\n",
       "    <tr>\n",
       "      <th>3</th>\n",
       "      <td>clique-ring-500-4</td>\n",
       "      <td>Chung-Lu</td>\n",
       "      <td>3</td>\n",
       "      <td>0.992536</td>\n",
       "      <td>0.992256</td>\n",
       "      <td>0.991966</td>\n",
       "      <td>0.991665</td>\n",
       "      <td>0.991352</td>\n",
       "      <td>0.991028</td>\n",
       "      <td>0.990692</td>\n",
       "      <td>...</td>\n",
       "      <td>0.016956</td>\n",
       "      <td>0.016664</td>\n",
       "      <td>0.016382</td>\n",
       "      <td>0.01611</td>\n",
       "      <td>0.015847</td>\n",
       "      <td>0.015593</td>\n",
       "      <td>-8.404970e-15</td>\n",
       "      <td>-4.309569e-15</td>\n",
       "      <td>30.908463</td>\n",
       "      <td>-6.090539</td>\n",
       "    </tr>\n",
       "    <tr>\n",
       "      <th>4</th>\n",
       "      <td>clique-ring-500-4</td>\n",
       "      <td>Chung-Lu</td>\n",
       "      <td>4</td>\n",
       "      <td>0.992536</td>\n",
       "      <td>0.992256</td>\n",
       "      <td>0.991966</td>\n",
       "      <td>0.991665</td>\n",
       "      <td>0.991352</td>\n",
       "      <td>0.991028</td>\n",
       "      <td>0.990692</td>\n",
       "      <td>...</td>\n",
       "      <td>0.016956</td>\n",
       "      <td>0.016664</td>\n",
       "      <td>0.016382</td>\n",
       "      <td>0.01611</td>\n",
       "      <td>0.015847</td>\n",
       "      <td>0.015593</td>\n",
       "      <td>1.971243e-14</td>\n",
       "      <td>5.199802e-15</td>\n",
       "      <td>-47.209839</td>\n",
       "      <td>-5.004240</td>\n",
       "    </tr>\n",
       "  </tbody>\n",
       "</table>\n",
       "<p>5 rows × 257 columns</p>\n",
       "</div>"
      ],
      "text/plain": [
       "                name     model  level        v0        v1        v2        v3  \\\n",
       "0  clique-ring-500-4  Chung-Lu      0  0.992536  0.992256  0.991966  0.991665   \n",
       "1  clique-ring-500-4  Chung-Lu      1  0.992536  0.992256  0.991966  0.991665   \n",
       "2  clique-ring-500-4  Chung-Lu      2  0.992536  0.992256  0.991966  0.991665   \n",
       "3  clique-ring-500-4  Chung-Lu      3  0.992536  0.992256  0.991966  0.991665   \n",
       "4  clique-ring-500-4  Chung-Lu      4  0.992536  0.992256  0.991966  0.991665   \n",
       "\n",
       "         v4        v5        v6  ...      v244      v245      v246     v247  \\\n",
       "0  0.991352  0.991028  0.990692  ...  0.016956  0.016664  0.016382  0.01611   \n",
       "1  0.991352  0.991028  0.990692  ...  0.016956  0.016664  0.016382  0.01611   \n",
       "2  0.991352  0.991028  0.990692  ...  0.016956  0.016664  0.016382  0.01611   \n",
       "3  0.991352  0.991028  0.990692  ...  0.016956  0.016664  0.016382  0.01611   \n",
       "4  0.991352  0.991028  0.990692  ...  0.016956  0.016664  0.016382  0.01611   \n",
       "\n",
       "       v248      v249         pca_x         pca_y     tsne_x     tsne_y  \n",
       "0  0.015847  0.015593  1.895836e-14 -3.815049e-15 -40.722855 -17.289858  \n",
       "1  0.015847  0.015593  1.391170e-14  1.135090e-14 -45.495399   5.305357  \n",
       "2  0.015847  0.015593 -1.356415e-14  1.865733e-14  13.540232  34.715652  \n",
       "3  0.015847  0.015593 -8.404970e-15 -4.309569e-15  30.908463  -6.090539  \n",
       "4  0.015847  0.015593  1.971243e-14  5.199802e-15 -47.209839  -5.004240  \n",
       "\n",
       "[5 rows x 257 columns]"
      ]
     },
     "execution_count": 139,
     "metadata": {},
     "output_type": "execute_result"
    }
   ],
   "source": [
    "df.head()"
   ]
  },
  {
   "cell_type": "code",
   "execution_count": 190,
   "metadata": {},
   "outputs": [
    {
     "data": {
      "text/plain": [
       "array([0., 0., 0., 0., 0., 0., 0., 0., 0., 0., 0., 0., 0., 0., 0., 0., 0.,\n",
       "       0., 0., 0., 0., 0., 0., 0., 0., 0., 0., 0., 0., 0., 0., 0., 0., 0.,\n",
       "       0., 0., 0., 0., 0., 0., 0., 0., 0., 0., 0., 0., 0., 0., 0., 0., 0.,\n",
       "       0., 0., 0., 0., 0., 0., 0., 0., 0., 0., 0., 0., 0., 0., 0., 0., 0.,\n",
       "       0., 0., 0., 0., 0., 0., 0., 0., 0., 0., 0., 0., 0., 0., 0., 0., 0.,\n",
       "       0., 0., 0., 0., 0., 0., 0., 0., 0., 0., 0., 0., 0., 0., 0., 0., 0.,\n",
       "       0., 0., 0., 0., 0., 0., 0., 0., 0., 0., 0., 0., 0., 0., 0., 0., 0.,\n",
       "       0., 0., 0., 0., 0., 0., 0., 0., 0., 0., 0., 0., 0., 0., 0., 0., 0.,\n",
       "       0., 0., 0., 0., 0., 0., 0., 0., 0., 0., 0., 0., 0., 0., 0., 0., 0.,\n",
       "       0., 0., 0., 0., 0., 0., 0., 0., 0., 0., 0., 0., 0., 0., 0., 0., 0.,\n",
       "       0., 0., 0., 0., 0., 0., 0., 0., 0., 0., 0., 0., 0., 0., 0., 0., 0.,\n",
       "       0., 0., 0., 0., 0., 0., 0., 0., 0., 0., 0., 0., 0., 0., 0., 0., 0.,\n",
       "       0., 0., 0., 0., 0., 0., 0., 0., 0., 0., 0., 0., 0., 0., 0., 0., 0.,\n",
       "       0., 0., 0., 0., 0., 0., 0., 0., 0., 0., 0., 0., 0., 0., 0., 0., 0.,\n",
       "       0., 0., 0., 0., 0., 0., 0., 0., 0., 0., 0., 0.])"
      ]
     },
     "execution_count": 190,
     "metadata": {},
     "output_type": "execute_result"
    }
   ],
   "source": [
    "np.round(df.iloc[:, 3: -6].to_numpy().std(axis=0), 3)"
   ]
  },
  {
   "cell_type": "markdown",
   "metadata": {},
   "source": [
    "## few choices for PCA/t-SNE\n",
    "* Do we compute the stats for all the data at once? Maybe.\n",
    "* Should we segment by each generation? Probably not."
   ]
  },
  {
   "cell_type": "markdown",
   "metadata": {},
   "source": [
    "### global PCA/t-SNE"
   ]
  },
  {
   "cell_type": "code",
   "execution_count": 191,
   "metadata": {},
   "outputs": [
    {
     "data": {
      "text/html": [
       "<div>\n",
       "<style scoped>\n",
       "    .dataframe tbody tr th:only-of-type {\n",
       "        vertical-align: middle;\n",
       "    }\n",
       "\n",
       "    .dataframe tbody tr th {\n",
       "        vertical-align: top;\n",
       "    }\n",
       "\n",
       "    .dataframe thead th {\n",
       "        text-align: right;\n",
       "    }\n",
       "</style>\n",
       "<table border=\"1\" class=\"dataframe\">\n",
       "  <thead>\n",
       "    <tr style=\"text-align: right;\">\n",
       "      <th></th>\n",
       "      <th>name</th>\n",
       "      <th>model</th>\n",
       "      <th>level</th>\n",
       "      <th>v0</th>\n",
       "      <th>v1</th>\n",
       "      <th>v2</th>\n",
       "      <th>v3</th>\n",
       "      <th>v4</th>\n",
       "      <th>v5</th>\n",
       "      <th>v6</th>\n",
       "      <th>...</th>\n",
       "      <th>v246</th>\n",
       "      <th>v247</th>\n",
       "      <th>v248</th>\n",
       "      <th>v249</th>\n",
       "      <th>pca_x</th>\n",
       "      <th>pca_y</th>\n",
       "      <th>tsne_x</th>\n",
       "      <th>tsne_y</th>\n",
       "      <th>pca_1</th>\n",
       "      <th>tsne_1</th>\n",
       "    </tr>\n",
       "  </thead>\n",
       "  <tbody>\n",
       "    <tr>\n",
       "      <th>0</th>\n",
       "      <td>clique-ring-500-4</td>\n",
       "      <td>CNRG</td>\n",
       "      <td>0</td>\n",
       "      <td>0.992536</td>\n",
       "      <td>0.992256</td>\n",
       "      <td>0.991966</td>\n",
       "      <td>0.991665</td>\n",
       "      <td>0.991352</td>\n",
       "      <td>0.991028</td>\n",
       "      <td>0.990692</td>\n",
       "      <td>...</td>\n",
       "      <td>0.016382</td>\n",
       "      <td>0.01611</td>\n",
       "      <td>0.015847</td>\n",
       "      <td>0.015593</td>\n",
       "      <td>-4.479666e-15</td>\n",
       "      <td>1.026293e-15</td>\n",
       "      <td>3.811537</td>\n",
       "      <td>-5.614816</td>\n",
       "      <td>-4.479666e-15</td>\n",
       "      <td>9.090350</td>\n",
       "    </tr>\n",
       "    <tr>\n",
       "      <th>1</th>\n",
       "      <td>clique-ring-500-4</td>\n",
       "      <td>CNRG</td>\n",
       "      <td>1</td>\n",
       "      <td>0.992536</td>\n",
       "      <td>0.992256</td>\n",
       "      <td>0.991966</td>\n",
       "      <td>0.991665</td>\n",
       "      <td>0.991352</td>\n",
       "      <td>0.991028</td>\n",
       "      <td>0.990692</td>\n",
       "      <td>...</td>\n",
       "      <td>0.016382</td>\n",
       "      <td>0.01611</td>\n",
       "      <td>0.015847</td>\n",
       "      <td>0.015593</td>\n",
       "      <td>5.032834e-15</td>\n",
       "      <td>-7.156695e-15</td>\n",
       "      <td>-15.318649</td>\n",
       "      <td>3.402625</td>\n",
       "      <td>5.032834e-15</td>\n",
       "      <td>-13.899453</td>\n",
       "    </tr>\n",
       "    <tr>\n",
       "      <th>2</th>\n",
       "      <td>clique-ring-500-4</td>\n",
       "      <td>CNRG</td>\n",
       "      <td>2</td>\n",
       "      <td>0.992536</td>\n",
       "      <td>0.992256</td>\n",
       "      <td>0.991966</td>\n",
       "      <td>0.991665</td>\n",
       "      <td>0.991352</td>\n",
       "      <td>0.991028</td>\n",
       "      <td>0.990692</td>\n",
       "      <td>...</td>\n",
       "      <td>0.016382</td>\n",
       "      <td>0.01611</td>\n",
       "      <td>0.015847</td>\n",
       "      <td>0.015593</td>\n",
       "      <td>2.449439e-14</td>\n",
       "      <td>-7.011671e-16</td>\n",
       "      <td>-4.021807</td>\n",
       "      <td>29.304674</td>\n",
       "      <td>2.449439e-14</td>\n",
       "      <td>-32.140526</td>\n",
       "    </tr>\n",
       "    <tr>\n",
       "      <th>3</th>\n",
       "      <td>clique-ring-500-4</td>\n",
       "      <td>CNRG</td>\n",
       "      <td>3</td>\n",
       "      <td>0.992536</td>\n",
       "      <td>0.992256</td>\n",
       "      <td>0.991966</td>\n",
       "      <td>0.991665</td>\n",
       "      <td>0.991352</td>\n",
       "      <td>0.991028</td>\n",
       "      <td>0.990692</td>\n",
       "      <td>...</td>\n",
       "      <td>0.016382</td>\n",
       "      <td>0.01611</td>\n",
       "      <td>0.015847</td>\n",
       "      <td>0.015593</td>\n",
       "      <td>1.326770e-16</td>\n",
       "      <td>-3.180459e-15</td>\n",
       "      <td>-6.917398</td>\n",
       "      <td>-2.556870</td>\n",
       "      <td>1.326770e-16</td>\n",
       "      <td>2.323514</td>\n",
       "    </tr>\n",
       "    <tr>\n",
       "      <th>4</th>\n",
       "      <td>clique-ring-500-4</td>\n",
       "      <td>CNRG</td>\n",
       "      <td>4</td>\n",
       "      <td>0.992536</td>\n",
       "      <td>0.992256</td>\n",
       "      <td>0.991966</td>\n",
       "      <td>0.991665</td>\n",
       "      <td>0.991352</td>\n",
       "      <td>0.991028</td>\n",
       "      <td>0.990692</td>\n",
       "      <td>...</td>\n",
       "      <td>0.016382</td>\n",
       "      <td>0.01611</td>\n",
       "      <td>0.015847</td>\n",
       "      <td>0.015593</td>\n",
       "      <td>2.665724e-14</td>\n",
       "      <td>5.441045e-15</td>\n",
       "      <td>0.075632</td>\n",
       "      <td>30.895197</td>\n",
       "      <td>2.665724e-14</td>\n",
       "      <td>-33.158195</td>\n",
       "    </tr>\n",
       "  </tbody>\n",
       "</table>\n",
       "<p>5 rows × 259 columns</p>\n",
       "</div>"
      ],
      "text/plain": [
       "                name model  level        v0        v1        v2        v3  \\\n",
       "0  clique-ring-500-4  CNRG      0  0.992536  0.992256  0.991966  0.991665   \n",
       "1  clique-ring-500-4  CNRG      1  0.992536  0.992256  0.991966  0.991665   \n",
       "2  clique-ring-500-4  CNRG      2  0.992536  0.992256  0.991966  0.991665   \n",
       "3  clique-ring-500-4  CNRG      3  0.992536  0.992256  0.991966  0.991665   \n",
       "4  clique-ring-500-4  CNRG      4  0.992536  0.992256  0.991966  0.991665   \n",
       "\n",
       "         v4        v5        v6  ...      v246     v247      v248      v249  \\\n",
       "0  0.991352  0.991028  0.990692  ...  0.016382  0.01611  0.015847  0.015593   \n",
       "1  0.991352  0.991028  0.990692  ...  0.016382  0.01611  0.015847  0.015593   \n",
       "2  0.991352  0.991028  0.990692  ...  0.016382  0.01611  0.015847  0.015593   \n",
       "3  0.991352  0.991028  0.990692  ...  0.016382  0.01611  0.015847  0.015593   \n",
       "4  0.991352  0.991028  0.990692  ...  0.016382  0.01611  0.015847  0.015593   \n",
       "\n",
       "          pca_x         pca_y     tsne_x     tsne_y         pca_1     tsne_1  \n",
       "0 -4.479666e-15  1.026293e-15   3.811537  -5.614816 -4.479666e-15   9.090350  \n",
       "1  5.032834e-15 -7.156695e-15 -15.318649   3.402625  5.032834e-15 -13.899453  \n",
       "2  2.449439e-14 -7.011671e-16  -4.021807  29.304674  2.449439e-14 -32.140526  \n",
       "3  1.326770e-16 -3.180459e-15  -6.917398  -2.556870  1.326770e-16   2.323514  \n",
       "4  2.665724e-14  5.441045e-15   0.075632  30.895197  2.665724e-14 -33.158195  \n",
       "\n",
       "[5 rows x 259 columns]"
      ]
     },
     "execution_count": 191,
     "metadata": {},
     "output_type": "execute_result"
    }
   ],
   "source": [
    "df.head()"
   ]
  },
  {
   "cell_type": "code",
   "execution_count": 184,
   "metadata": {},
   "outputs": [],
   "source": [
    "df[['pca_x', 'pca_y']] = pca_2.fit_transform(df.iloc[:, 3: -6])\n",
    "df[['tsne_x', 'tsne_y']] = tsne_2.fit_transform(df.iloc[:, 3: -6])"
   ]
  },
  {
   "cell_type": "code",
   "execution_count": 185,
   "metadata": {},
   "outputs": [],
   "source": [
    "df['pca_1'] = pca_1.fit_transform(df.iloc[:, 3: -6]); df['tsne_1'] = tsne_1.fit_transform(df.iloc[:, 3: -6])"
   ]
  },
  {
   "cell_type": "code",
   "execution_count": 170,
   "metadata": {},
   "outputs": [],
   "source": []
  },
  {
   "cell_type": "code",
   "execution_count": 186,
   "metadata": {},
   "outputs": [
    {
     "data": {
      "text/html": [
       "<div>\n",
       "<style scoped>\n",
       "    .dataframe tbody tr th:only-of-type {\n",
       "        vertical-align: middle;\n",
       "    }\n",
       "\n",
       "    .dataframe tbody tr th {\n",
       "        vertical-align: top;\n",
       "    }\n",
       "\n",
       "    .dataframe thead th {\n",
       "        text-align: right;\n",
       "    }\n",
       "</style>\n",
       "<table border=\"1\" class=\"dataframe\">\n",
       "  <thead>\n",
       "    <tr style=\"text-align: right;\">\n",
       "      <th></th>\n",
       "      <th>name</th>\n",
       "      <th>model</th>\n",
       "      <th>level</th>\n",
       "      <th>v0</th>\n",
       "      <th>v1</th>\n",
       "      <th>v2</th>\n",
       "      <th>v3</th>\n",
       "      <th>v4</th>\n",
       "      <th>v5</th>\n",
       "      <th>v6</th>\n",
       "      <th>...</th>\n",
       "      <th>v246</th>\n",
       "      <th>v247</th>\n",
       "      <th>v248</th>\n",
       "      <th>v249</th>\n",
       "      <th>pca_x</th>\n",
       "      <th>pca_y</th>\n",
       "      <th>tsne_x</th>\n",
       "      <th>tsne_y</th>\n",
       "      <th>pca_1</th>\n",
       "      <th>tsne_1</th>\n",
       "    </tr>\n",
       "  </thead>\n",
       "  <tbody>\n",
       "    <tr>\n",
       "      <th>0</th>\n",
       "      <td>clique-ring-500-4</td>\n",
       "      <td>CNRG</td>\n",
       "      <td>0</td>\n",
       "      <td>0.992536</td>\n",
       "      <td>0.992256</td>\n",
       "      <td>0.991966</td>\n",
       "      <td>0.991665</td>\n",
       "      <td>0.991352</td>\n",
       "      <td>0.991028</td>\n",
       "      <td>0.990692</td>\n",
       "      <td>...</td>\n",
       "      <td>0.016382</td>\n",
       "      <td>0.01611</td>\n",
       "      <td>0.015847</td>\n",
       "      <td>0.015593</td>\n",
       "      <td>-4.479666e-15</td>\n",
       "      <td>1.026293e-15</td>\n",
       "      <td>3.811537</td>\n",
       "      <td>-5.614816</td>\n",
       "      <td>-4.479666e-15</td>\n",
       "      <td>9.090350</td>\n",
       "    </tr>\n",
       "    <tr>\n",
       "      <th>1</th>\n",
       "      <td>clique-ring-500-4</td>\n",
       "      <td>CNRG</td>\n",
       "      <td>1</td>\n",
       "      <td>0.992536</td>\n",
       "      <td>0.992256</td>\n",
       "      <td>0.991966</td>\n",
       "      <td>0.991665</td>\n",
       "      <td>0.991352</td>\n",
       "      <td>0.991028</td>\n",
       "      <td>0.990692</td>\n",
       "      <td>...</td>\n",
       "      <td>0.016382</td>\n",
       "      <td>0.01611</td>\n",
       "      <td>0.015847</td>\n",
       "      <td>0.015593</td>\n",
       "      <td>5.032834e-15</td>\n",
       "      <td>-7.156695e-15</td>\n",
       "      <td>-15.318649</td>\n",
       "      <td>3.402625</td>\n",
       "      <td>5.032834e-15</td>\n",
       "      <td>-13.899453</td>\n",
       "    </tr>\n",
       "    <tr>\n",
       "      <th>2</th>\n",
       "      <td>clique-ring-500-4</td>\n",
       "      <td>CNRG</td>\n",
       "      <td>2</td>\n",
       "      <td>0.992536</td>\n",
       "      <td>0.992256</td>\n",
       "      <td>0.991966</td>\n",
       "      <td>0.991665</td>\n",
       "      <td>0.991352</td>\n",
       "      <td>0.991028</td>\n",
       "      <td>0.990692</td>\n",
       "      <td>...</td>\n",
       "      <td>0.016382</td>\n",
       "      <td>0.01611</td>\n",
       "      <td>0.015847</td>\n",
       "      <td>0.015593</td>\n",
       "      <td>2.449439e-14</td>\n",
       "      <td>-7.011671e-16</td>\n",
       "      <td>-4.021807</td>\n",
       "      <td>29.304674</td>\n",
       "      <td>2.449439e-14</td>\n",
       "      <td>-32.140526</td>\n",
       "    </tr>\n",
       "    <tr>\n",
       "      <th>3</th>\n",
       "      <td>clique-ring-500-4</td>\n",
       "      <td>CNRG</td>\n",
       "      <td>3</td>\n",
       "      <td>0.992536</td>\n",
       "      <td>0.992256</td>\n",
       "      <td>0.991966</td>\n",
       "      <td>0.991665</td>\n",
       "      <td>0.991352</td>\n",
       "      <td>0.991028</td>\n",
       "      <td>0.990692</td>\n",
       "      <td>...</td>\n",
       "      <td>0.016382</td>\n",
       "      <td>0.01611</td>\n",
       "      <td>0.015847</td>\n",
       "      <td>0.015593</td>\n",
       "      <td>1.326770e-16</td>\n",
       "      <td>-3.180459e-15</td>\n",
       "      <td>-6.917398</td>\n",
       "      <td>-2.556870</td>\n",
       "      <td>1.326770e-16</td>\n",
       "      <td>2.323514</td>\n",
       "    </tr>\n",
       "    <tr>\n",
       "      <th>4</th>\n",
       "      <td>clique-ring-500-4</td>\n",
       "      <td>CNRG</td>\n",
       "      <td>4</td>\n",
       "      <td>0.992536</td>\n",
       "      <td>0.992256</td>\n",
       "      <td>0.991966</td>\n",
       "      <td>0.991665</td>\n",
       "      <td>0.991352</td>\n",
       "      <td>0.991028</td>\n",
       "      <td>0.990692</td>\n",
       "      <td>...</td>\n",
       "      <td>0.016382</td>\n",
       "      <td>0.01611</td>\n",
       "      <td>0.015847</td>\n",
       "      <td>0.015593</td>\n",
       "      <td>2.665724e-14</td>\n",
       "      <td>5.441045e-15</td>\n",
       "      <td>0.075632</td>\n",
       "      <td>30.895197</td>\n",
       "      <td>2.665724e-14</td>\n",
       "      <td>-33.158195</td>\n",
       "    </tr>\n",
       "  </tbody>\n",
       "</table>\n",
       "<p>5 rows × 259 columns</p>\n",
       "</div>"
      ],
      "text/plain": [
       "                name model  level        v0        v1        v2        v3  \\\n",
       "0  clique-ring-500-4  CNRG      0  0.992536  0.992256  0.991966  0.991665   \n",
       "1  clique-ring-500-4  CNRG      1  0.992536  0.992256  0.991966  0.991665   \n",
       "2  clique-ring-500-4  CNRG      2  0.992536  0.992256  0.991966  0.991665   \n",
       "3  clique-ring-500-4  CNRG      3  0.992536  0.992256  0.991966  0.991665   \n",
       "4  clique-ring-500-4  CNRG      4  0.992536  0.992256  0.991966  0.991665   \n",
       "\n",
       "         v4        v5        v6  ...      v246     v247      v248      v249  \\\n",
       "0  0.991352  0.991028  0.990692  ...  0.016382  0.01611  0.015847  0.015593   \n",
       "1  0.991352  0.991028  0.990692  ...  0.016382  0.01611  0.015847  0.015593   \n",
       "2  0.991352  0.991028  0.990692  ...  0.016382  0.01611  0.015847  0.015593   \n",
       "3  0.991352  0.991028  0.990692  ...  0.016382  0.01611  0.015847  0.015593   \n",
       "4  0.991352  0.991028  0.990692  ...  0.016382  0.01611  0.015847  0.015593   \n",
       "\n",
       "          pca_x         pca_y     tsne_x     tsne_y         pca_1     tsne_1  \n",
       "0 -4.479666e-15  1.026293e-15   3.811537  -5.614816 -4.479666e-15   9.090350  \n",
       "1  5.032834e-15 -7.156695e-15 -15.318649   3.402625  5.032834e-15 -13.899453  \n",
       "2  2.449439e-14 -7.011671e-16  -4.021807  29.304674  2.449439e-14 -32.140526  \n",
       "3  1.326770e-16 -3.180459e-15  -6.917398  -2.556870  1.326770e-16   2.323514  \n",
       "4  2.665724e-14  5.441045e-15   0.075632  30.895197  2.665724e-14 -33.158195  \n",
       "\n",
       "[5 rows x 259 columns]"
      ]
     },
     "execution_count": 186,
     "metadata": {},
     "output_type": "execute_result"
    }
   ],
   "source": [
    "df.head()"
   ]
  },
  {
   "cell_type": "code",
   "execution_count": 187,
   "metadata": {},
   "outputs": [],
   "source": [
    "# make level into a string\n",
    "df['level'] = df['level'].apply(int)\n",
    "filtered_df = df[df.level<6]\n",
    "filtered_df['level'] = filtered_df.level.apply(str)"
   ]
  },
  {
   "cell_type": "code",
   "execution_count": 160,
   "metadata": {},
   "outputs": [
    {
     "ename": "AttributeError",
     "evalue": "'str' object has no attribute 'view'",
     "output_type": "error",
     "traceback": [
      "\u001b[0;31m----------------------------------------\u001b[0m",
      "\u001b[0;31mAttributeError\u001b[0mTraceback (most recent call last)",
      "\u001b[0;32m<ipython-input-160-8a712fe4ff4a>\u001b[0m in \u001b[0;36m<module>\u001b[0;34m\u001b[0m\n\u001b[0;32m----> 1\u001b[0;31m \u001b[0msns\u001b[0m\u001b[0;34m.\u001b[0m\u001b[0mscatterplot\u001b[0m\u001b[0;34m(\u001b[0m\u001b[0mx\u001b[0m\u001b[0;34m=\u001b[0m\u001b[0;34m'tsne_x'\u001b[0m\u001b[0;34m,\u001b[0m \u001b[0my\u001b[0m\u001b[0;34m=\u001b[0m\u001b[0;34m'tsne_y'\u001b[0m\u001b[0;34m,\u001b[0m \u001b[0mmarker\u001b[0m\u001b[0;34m=\u001b[0m\u001b[0;34m'o'\u001b[0m\u001b[0;34m,\u001b[0m \u001b[0mhue\u001b[0m\u001b[0;34m=\u001b[0m\u001b[0;34m'level'\u001b[0m\u001b[0;34m,\u001b[0m \u001b[0mdata\u001b[0m\u001b[0;34m=\u001b[0m\u001b[0mfiltered_df\u001b[0m\u001b[0;34m)\u001b[0m\u001b[0;34m;\u001b[0m\u001b[0;34m\u001b[0m\u001b[0;34m\u001b[0m\u001b[0m\n\u001b[0m",
      "\u001b[0;32m~/miniconda3/envs/infinity-mirror/lib/python3.7/site-packages/seaborn/relational.py\u001b[0m in \u001b[0;36mscatterplot\u001b[0;34m(x, y, hue, style, size, data, palette, hue_order, hue_norm, sizes, size_order, size_norm, markers, style_order, x_bins, y_bins, units, estimator, ci, n_boot, alpha, x_jitter, y_jitter, legend, ax, **kwargs)\u001b[0m\n\u001b[1;32m   1333\u001b[0m         \u001b[0mx_bins\u001b[0m\u001b[0;34m=\u001b[0m\u001b[0mx_bins\u001b[0m\u001b[0;34m,\u001b[0m \u001b[0my_bins\u001b[0m\u001b[0;34m=\u001b[0m\u001b[0my_bins\u001b[0m\u001b[0;34m,\u001b[0m\u001b[0;34m\u001b[0m\u001b[0;34m\u001b[0m\u001b[0m\n\u001b[1;32m   1334\u001b[0m         \u001b[0mestimator\u001b[0m\u001b[0;34m=\u001b[0m\u001b[0mestimator\u001b[0m\u001b[0;34m,\u001b[0m \u001b[0mci\u001b[0m\u001b[0;34m=\u001b[0m\u001b[0mci\u001b[0m\u001b[0;34m,\u001b[0m \u001b[0mn_boot\u001b[0m\u001b[0;34m=\u001b[0m\u001b[0mn_boot\u001b[0m\u001b[0;34m,\u001b[0m\u001b[0;34m\u001b[0m\u001b[0;34m\u001b[0m\u001b[0m\n\u001b[0;32m-> 1335\u001b[0;31m         \u001b[0malpha\u001b[0m\u001b[0;34m=\u001b[0m\u001b[0malpha\u001b[0m\u001b[0;34m,\u001b[0m \u001b[0mx_jitter\u001b[0m\u001b[0;34m=\u001b[0m\u001b[0mx_jitter\u001b[0m\u001b[0;34m,\u001b[0m \u001b[0my_jitter\u001b[0m\u001b[0;34m=\u001b[0m\u001b[0my_jitter\u001b[0m\u001b[0;34m,\u001b[0m \u001b[0mlegend\u001b[0m\u001b[0;34m=\u001b[0m\u001b[0mlegend\u001b[0m\u001b[0;34m,\u001b[0m\u001b[0;34m\u001b[0m\u001b[0;34m\u001b[0m\u001b[0m\n\u001b[0m\u001b[1;32m   1336\u001b[0m     )\n\u001b[1;32m   1337\u001b[0m \u001b[0;34m\u001b[0m\u001b[0m\n",
      "\u001b[0;32m~/miniconda3/envs/infinity-mirror/lib/python3.7/site-packages/seaborn/relational.py\u001b[0m in \u001b[0;36m__init__\u001b[0;34m(self, x, y, hue, size, style, data, palette, hue_order, hue_norm, sizes, size_order, size_norm, dashes, markers, style_order, x_bins, y_bins, units, estimator, ci, n_boot, alpha, x_jitter, y_jitter, legend)\u001b[0m\n\u001b[1;32m    857\u001b[0m         )\n\u001b[1;32m    858\u001b[0m \u001b[0;34m\u001b[0m\u001b[0m\n\u001b[0;32m--> 859\u001b[0;31m         \u001b[0mself\u001b[0m\u001b[0;34m.\u001b[0m\u001b[0mparse_hue\u001b[0m\u001b[0;34m(\u001b[0m\u001b[0mplot_data\u001b[0m\u001b[0;34m[\u001b[0m\u001b[0;34m\"hue\"\u001b[0m\u001b[0;34m]\u001b[0m\u001b[0;34m,\u001b[0m \u001b[0mpalette\u001b[0m\u001b[0;34m,\u001b[0m \u001b[0mhue_order\u001b[0m\u001b[0;34m,\u001b[0m \u001b[0mhue_norm\u001b[0m\u001b[0;34m)\u001b[0m\u001b[0;34m\u001b[0m\u001b[0;34m\u001b[0m\u001b[0m\n\u001b[0m\u001b[1;32m    860\u001b[0m         \u001b[0mself\u001b[0m\u001b[0;34m.\u001b[0m\u001b[0mparse_size\u001b[0m\u001b[0;34m(\u001b[0m\u001b[0mplot_data\u001b[0m\u001b[0;34m[\u001b[0m\u001b[0;34m\"size\"\u001b[0m\u001b[0;34m]\u001b[0m\u001b[0;34m,\u001b[0m \u001b[0msizes\u001b[0m\u001b[0;34m,\u001b[0m \u001b[0msize_order\u001b[0m\u001b[0;34m,\u001b[0m \u001b[0msize_norm\u001b[0m\u001b[0;34m)\u001b[0m\u001b[0;34m\u001b[0m\u001b[0;34m\u001b[0m\u001b[0m\n\u001b[1;32m    861\u001b[0m         \u001b[0mself\u001b[0m\u001b[0;34m.\u001b[0m\u001b[0mparse_style\u001b[0m\u001b[0;34m(\u001b[0m\u001b[0mplot_data\u001b[0m\u001b[0;34m[\u001b[0m\u001b[0;34m\"style\"\u001b[0m\u001b[0;34m]\u001b[0m\u001b[0;34m,\u001b[0m \u001b[0mmarkers\u001b[0m\u001b[0;34m,\u001b[0m \u001b[0;32mNone\u001b[0m\u001b[0;34m,\u001b[0m \u001b[0mstyle_order\u001b[0m\u001b[0;34m)\u001b[0m\u001b[0;34m\u001b[0m\u001b[0;34m\u001b[0m\u001b[0m\n",
      "\u001b[0;32m~/miniconda3/envs/infinity-mirror/lib/python3.7/site-packages/seaborn/relational.py\u001b[0m in \u001b[0;36mparse_hue\u001b[0;34m(self, data, palette, order, norm)\u001b[0m\n\u001b[1;32m    373\u001b[0m \u001b[0;34m\u001b[0m\u001b[0m\n\u001b[1;32m    374\u001b[0m             levels, palette, cmap, norm = self.numeric_to_palette(\n\u001b[0;32m--> 375\u001b[0;31m                 \u001b[0mdata\u001b[0m\u001b[0;34m,\u001b[0m \u001b[0morder\u001b[0m\u001b[0;34m,\u001b[0m \u001b[0mpalette\u001b[0m\u001b[0;34m,\u001b[0m \u001b[0mnorm\u001b[0m\u001b[0;34m\u001b[0m\u001b[0;34m\u001b[0m\u001b[0m\n\u001b[0m\u001b[1;32m    376\u001b[0m             )\n\u001b[1;32m    377\u001b[0m             \u001b[0mlimits\u001b[0m \u001b[0;34m=\u001b[0m \u001b[0mnorm\u001b[0m\u001b[0;34m.\u001b[0m\u001b[0mvmin\u001b[0m\u001b[0;34m,\u001b[0m \u001b[0mnorm\u001b[0m\u001b[0;34m.\u001b[0m\u001b[0mvmax\u001b[0m\u001b[0;34m\u001b[0m\u001b[0;34m\u001b[0m\u001b[0m\n",
      "\u001b[0;32m~/miniconda3/envs/infinity-mirror/lib/python3.7/site-packages/seaborn/relational.py\u001b[0m in \u001b[0;36mnumeric_to_palette\u001b[0;34m(self, data, order, palette, norm)\u001b[0m\n\u001b[1;32m    258\u001b[0m \u001b[0;34m\u001b[0m\u001b[0m\n\u001b[1;32m    259\u001b[0m         \u001b[0;32mif\u001b[0m \u001b[0;32mnot\u001b[0m \u001b[0mnorm\u001b[0m\u001b[0;34m.\u001b[0m\u001b[0mscaled\u001b[0m\u001b[0;34m(\u001b[0m\u001b[0;34m)\u001b[0m\u001b[0;34m:\u001b[0m\u001b[0;34m\u001b[0m\u001b[0;34m\u001b[0m\u001b[0m\n\u001b[0;32m--> 260\u001b[0;31m             \u001b[0mnorm\u001b[0m\u001b[0;34m(\u001b[0m\u001b[0mnp\u001b[0m\u001b[0;34m.\u001b[0m\u001b[0masarray\u001b[0m\u001b[0;34m(\u001b[0m\u001b[0mdata\u001b[0m\u001b[0;34m.\u001b[0m\u001b[0mdropna\u001b[0m\u001b[0;34m(\u001b[0m\u001b[0;34m)\u001b[0m\u001b[0;34m)\u001b[0m\u001b[0;34m)\u001b[0m\u001b[0;34m\u001b[0m\u001b[0;34m\u001b[0m\u001b[0m\n\u001b[0m\u001b[1;32m    261\u001b[0m \u001b[0;34m\u001b[0m\u001b[0m\n\u001b[1;32m    262\u001b[0m         \u001b[0;31m# TODO this should also use color_lookup, but that needs the\u001b[0m\u001b[0;34m\u001b[0m\u001b[0;34m\u001b[0m\u001b[0;34m\u001b[0m\u001b[0m\n",
      "\u001b[0;32m~/miniconda3/envs/infinity-mirror/lib/python3.7/site-packages/matplotlib/colors.py\u001b[0m in \u001b[0;36m__call__\u001b[0;34m(self, value, clip)\u001b[0m\n\u001b[1;32m    955\u001b[0m         \u001b[0mresult\u001b[0m\u001b[0;34m,\u001b[0m \u001b[0mis_scalar\u001b[0m \u001b[0;34m=\u001b[0m \u001b[0mself\u001b[0m\u001b[0;34m.\u001b[0m\u001b[0mprocess_value\u001b[0m\u001b[0;34m(\u001b[0m\u001b[0mvalue\u001b[0m\u001b[0;34m)\u001b[0m\u001b[0;34m\u001b[0m\u001b[0;34m\u001b[0m\u001b[0m\n\u001b[1;32m    956\u001b[0m \u001b[0;34m\u001b[0m\u001b[0m\n\u001b[0;32m--> 957\u001b[0;31m         \u001b[0mself\u001b[0m\u001b[0;34m.\u001b[0m\u001b[0mautoscale_None\u001b[0m\u001b[0;34m(\u001b[0m\u001b[0mresult\u001b[0m\u001b[0;34m)\u001b[0m\u001b[0;34m\u001b[0m\u001b[0;34m\u001b[0m\u001b[0m\n\u001b[0m\u001b[1;32m    958\u001b[0m         \u001b[0;31m# Convert at least to float, without losing precision.\u001b[0m\u001b[0;34m\u001b[0m\u001b[0;34m\u001b[0m\u001b[0;34m\u001b[0m\u001b[0m\n\u001b[1;32m    959\u001b[0m         \u001b[0;34m(\u001b[0m\u001b[0mvmin\u001b[0m\u001b[0;34m,\u001b[0m\u001b[0;34m)\u001b[0m\u001b[0;34m,\u001b[0m \u001b[0m_\u001b[0m \u001b[0;34m=\u001b[0m \u001b[0mself\u001b[0m\u001b[0;34m.\u001b[0m\u001b[0mprocess_value\u001b[0m\u001b[0;34m(\u001b[0m\u001b[0mself\u001b[0m\u001b[0;34m.\u001b[0m\u001b[0mvmin\u001b[0m\u001b[0;34m)\u001b[0m\u001b[0;34m\u001b[0m\u001b[0;34m\u001b[0m\u001b[0m\n",
      "\u001b[0;32m~/miniconda3/envs/infinity-mirror/lib/python3.7/site-packages/matplotlib/colors.py\u001b[0m in \u001b[0;36mautoscale_None\u001b[0;34m(self, A)\u001b[0m\n\u001b[1;32m    999\u001b[0m         \u001b[0mA\u001b[0m \u001b[0;34m=\u001b[0m \u001b[0mnp\u001b[0m\u001b[0;34m.\u001b[0m\u001b[0masanyarray\u001b[0m\u001b[0;34m(\u001b[0m\u001b[0mA\u001b[0m\u001b[0;34m)\u001b[0m\u001b[0;34m\u001b[0m\u001b[0;34m\u001b[0m\u001b[0m\n\u001b[1;32m   1000\u001b[0m         \u001b[0;32mif\u001b[0m \u001b[0mself\u001b[0m\u001b[0;34m.\u001b[0m\u001b[0mvmin\u001b[0m \u001b[0;32mis\u001b[0m \u001b[0;32mNone\u001b[0m \u001b[0;32mand\u001b[0m \u001b[0mA\u001b[0m\u001b[0;34m.\u001b[0m\u001b[0msize\u001b[0m\u001b[0;34m:\u001b[0m\u001b[0;34m\u001b[0m\u001b[0;34m\u001b[0m\u001b[0m\n\u001b[0;32m-> 1001\u001b[0;31m             \u001b[0mself\u001b[0m\u001b[0;34m.\u001b[0m\u001b[0mvmin\u001b[0m \u001b[0;34m=\u001b[0m \u001b[0mA\u001b[0m\u001b[0;34m.\u001b[0m\u001b[0mmin\u001b[0m\u001b[0;34m(\u001b[0m\u001b[0;34m)\u001b[0m\u001b[0;34m\u001b[0m\u001b[0;34m\u001b[0m\u001b[0m\n\u001b[0m\u001b[1;32m   1002\u001b[0m         \u001b[0;32mif\u001b[0m \u001b[0mself\u001b[0m\u001b[0;34m.\u001b[0m\u001b[0mvmax\u001b[0m \u001b[0;32mis\u001b[0m \u001b[0;32mNone\u001b[0m \u001b[0;32mand\u001b[0m \u001b[0mA\u001b[0m\u001b[0;34m.\u001b[0m\u001b[0msize\u001b[0m\u001b[0;34m:\u001b[0m\u001b[0;34m\u001b[0m\u001b[0;34m\u001b[0m\u001b[0m\n\u001b[1;32m   1003\u001b[0m             \u001b[0mself\u001b[0m\u001b[0;34m.\u001b[0m\u001b[0mvmax\u001b[0m \u001b[0;34m=\u001b[0m \u001b[0mA\u001b[0m\u001b[0;34m.\u001b[0m\u001b[0mmax\u001b[0m\u001b[0;34m(\u001b[0m\u001b[0;34m)\u001b[0m\u001b[0;34m\u001b[0m\u001b[0;34m\u001b[0m\u001b[0m\n",
      "\u001b[0;32m~/miniconda3/envs/infinity-mirror/lib/python3.7/site-packages/numpy/ma/core.py\u001b[0m in \u001b[0;36mmin\u001b[0;34m(self, axis, out, fill_value, keepdims)\u001b[0m\n\u001b[1;32m   5639\u001b[0m         \u001b[0;32mif\u001b[0m \u001b[0mout\u001b[0m \u001b[0;32mis\u001b[0m \u001b[0;32mNone\u001b[0m\u001b[0;34m:\u001b[0m\u001b[0;34m\u001b[0m\u001b[0;34m\u001b[0m\u001b[0m\n\u001b[1;32m   5640\u001b[0m             result = self.filled(fill_value).min(\n\u001b[0;32m-> 5641\u001b[0;31m                 axis=axis, out=out, **kwargs).view(type(self))\n\u001b[0m\u001b[1;32m   5642\u001b[0m             \u001b[0;32mif\u001b[0m \u001b[0mresult\u001b[0m\u001b[0;34m.\u001b[0m\u001b[0mndim\u001b[0m\u001b[0;34m:\u001b[0m\u001b[0;34m\u001b[0m\u001b[0;34m\u001b[0m\u001b[0m\n\u001b[1;32m   5643\u001b[0m                 \u001b[0;31m# Set the mask\u001b[0m\u001b[0;34m\u001b[0m\u001b[0;34m\u001b[0m\u001b[0;34m\u001b[0m\u001b[0m\n",
      "\u001b[0;31mAttributeError\u001b[0m: 'str' object has no attribute 'view'"
     ]
    }
   ],
   "source": [
    "sns.scatterplot(x='tsne_x', y='tsne_y', marker='o', hue='level', data=filtered_df);"
   ]
  },
  {
   "cell_type": "code",
   "execution_count": 174,
   "metadata": {},
   "outputs": [
    {
     "data": {
      "image/png": "[encoded data removed]",
      "text/plain": [
       "<Figure size 360x360 with 1 Axes>"
      ]
     },
     "metadata": {},
     "output_type": "display_data"
    }
   ],
   "source": [
    "sns.catplot(x='level', y='tsne_1', hue='level', data=filtered_df);"
   ]
  },
  {
   "cell_type": "code",
   "execution_count": 189,
   "metadata": {},
   "outputs": [
    {
     "data": {
      "image/png": "[encoded data removed]",
      "text/plain": [
       "<Figure size 360x360 with 1 Axes>"
      ]
     },
     "metadata": {},
     "output_type": "display_data"
    }
   ],
   "source": [
    "sns.catplot(x='level', y='pca_1', hue='level', data=filtered_df);"
   ]
  },
  {
   "cell_type": "code",
   "execution_count": 110,
   "metadata": {},
   "outputs": [
    {
     "data": {
      "text/plain": [
       "<matplotlib.axes._subplots.AxesSubplot at 0x7f5021d38e50>"
      ]
     },
     "execution_count": 110,
     "metadata": {},
     "output_type": "execute_result"
    },
    {
     "data": {
      "image/png": "[encoded data removed]",
      "text/plain": [
       "<Figure size 720x504 with 1 Axes>"
      ]
     },
     "metadata": {},
     "output_type": "display_data"
    }
   ],
   "source": [
    "sns.scatterplot(x='tsne_x', y='tsne_y', data=df[df.level==0]);"
   ]
  },
  {
   "cell_type": "code",
   "execution_count": 138,
   "metadata": {},
   "outputs": [
    {
     "data": {
      "image/png": "[encoded data removed]",
      "text/plain": [
       "<Figure size 720x504 with 1 Axes>"
      ]
     },
     "metadata": {},
     "output_type": "display_data"
    }
   ],
   "source": [
    "sns.scatterplot(x='pca_x', y='pca_y', data=df[df.level==0]);"
   ]
  },
  {
   "cell_type": "code",
   "execution_count": 112,
   "metadata": {},
   "outputs": [
    {
     "data": {
      "image/png": "[encoded data removed]",
      "text/plain": [
       "<Figure size 720x504 with 1 Axes>"
      ]
     },
     "metadata": {},
     "output_type": "display_data"
    }
   ],
   "source": [
    "sns.scatterplot(x='pca_x', y='pca_y', hue='level', marker='o', data=df);"
   ]
  },
  {
   "cell_type": "code",
   "execution_count": 113,
   "metadata": {},
   "outputs": [
    {
     "data": {
      "text/html": [
       "<div>\n",
       "<style scoped>\n",
       "    .dataframe tbody tr th:only-of-type {\n",
       "        vertical-align: middle;\n",
       "    }\n",
       "\n",
       "    .dataframe tbody tr th {\n",
       "        vertical-align: top;\n",
       "    }\n",
       "\n",
       "    .dataframe thead th {\n",
       "        text-align: right;\n",
       "    }\n",
       "</style>\n",
       "<table border=\"1\" class=\"dataframe\">\n",
       "  <thead>\n",
       "    <tr style=\"text-align: right;\">\n",
       "      <th></th>\n",
       "      <th>pca_x</th>\n",
       "      <th>pca_y</th>\n",
       "    </tr>\n",
       "  </thead>\n",
       "  <tbody>\n",
       "    <tr>\n",
       "      <th>0</th>\n",
       "      <td>-1.657024e-14</td>\n",
       "      <td>-1.174513e-15</td>\n",
       "    </tr>\n",
       "    <tr>\n",
       "      <th>1</th>\n",
       "      <td>1.694701e-14</td>\n",
       "      <td>-8.923467e-15</td>\n",
       "    </tr>\n",
       "    <tr>\n",
       "      <th>2</th>\n",
       "      <td>-7.085872e-15</td>\n",
       "      <td>1.838746e-14</td>\n",
       "    </tr>\n",
       "    <tr>\n",
       "      <th>3</th>\n",
       "      <td>8.075992e-15</td>\n",
       "      <td>-4.841611e-15</td>\n",
       "    </tr>\n",
       "    <tr>\n",
       "      <th>4</th>\n",
       "      <td>-1.822812e-14</td>\n",
       "      <td>7.505357e-15</td>\n",
       "    </tr>\n",
       "    <tr>\n",
       "      <th>...</th>\n",
       "      <td>...</td>\n",
       "      <td>...</td>\n",
       "    </tr>\n",
       "    <tr>\n",
       "      <th>1045</th>\n",
       "      <td>1.052517e-14</td>\n",
       "      <td>-3.648770e-15</td>\n",
       "    </tr>\n",
       "    <tr>\n",
       "      <th>1046</th>\n",
       "      <td>-2.648195e-14</td>\n",
       "      <td>2.337924e-14</td>\n",
       "    </tr>\n",
       "    <tr>\n",
       "      <th>1047</th>\n",
       "      <td>1.251960e-14</td>\n",
       "      <td>-9.350824e-15</td>\n",
       "    </tr>\n",
       "    <tr>\n",
       "      <th>1048</th>\n",
       "      <td>1.352432e-14</td>\n",
       "      <td>4.651383e-15</td>\n",
       "    </tr>\n",
       "    <tr>\n",
       "      <th>1049</th>\n",
       "      <td>-1.435987e-14</td>\n",
       "      <td>-1.713639e-16</td>\n",
       "    </tr>\n",
       "  </tbody>\n",
       "</table>\n",
       "<p>1050 rows × 2 columns</p>\n",
       "</div>"
      ],
      "text/plain": [
       "             pca_x         pca_y\n",
       "0    -1.657024e-14 -1.174513e-15\n",
       "1     1.694701e-14 -8.923467e-15\n",
       "2    -7.085872e-15  1.838746e-14\n",
       "3     8.075992e-15 -4.841611e-15\n",
       "4    -1.822812e-14  7.505357e-15\n",
       "...            ...           ...\n",
       "1045  1.052517e-14 -3.648770e-15\n",
       "1046 -2.648195e-14  2.337924e-14\n",
       "1047  1.251960e-14 -9.350824e-15\n",
       "1048  1.352432e-14  4.651383e-15\n",
       "1049 -1.435987e-14 -1.713639e-16\n",
       "\n",
       "[1050 rows x 2 columns]"
      ]
     },
     "execution_count": 113,
     "metadata": {},
     "output_type": "execute_result"
    }
   ],
   "source": [
    "df[['pca_x', 'pca_y']]"
   ]
  },
  {
   "cell_type": "code",
   "execution_count": null,
   "metadata": {},
   "outputs": [],
   "source": []
  }
 ],
 "metadata": {
  "kernelspec": {
   "display_name": "infinity mirror",
   "language": "python",
   "name": "infinity-mirror"
  },
  "language_info": {
   "codemirror_mode": {
    "name": "ipython",
    "version": 3
   },
   "file_extension": ".py",
   "mimetype": "text/x-python",
   "name": "python",
   "nbconvert_exporter": "python",
   "pygments_lexer": "ipython3",
   "version": "3.7.6"
  }
 },
 "nbformat": 4,
 "nbformat_minor": 2
}
