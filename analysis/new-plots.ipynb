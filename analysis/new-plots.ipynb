{
 "cells": [
  {
   "cell_type": "code",
   "execution_count": 57,
   "metadata": {},
   "outputs": [],
   "source": [
    "import networkx as nx\n",
    "import igraph as ig\n",
    "import matplotlib.pyplot as plt\n",
    "import seaborn as sns\n",
    "import pandas as pd\n",
    "import logging"
   ]
  },
  {
   "cell_type": "code",
   "execution_count": 60,
   "metadata": {},
   "outputs": [],
   "source": [
    "def nx_to_igraph(nx_g) -> ig.Graph:\n",
    "    \"\"\"\n",
    "    Convert networkx graph to an equivalent igraph Graph\n",
    "    attributes are stored as vertex sequences\n",
    "    \"\"\"\n",
    "    nx_g = nx.convert_node_labels_to_integers(nx_g, label_attribute='old_label')\n",
    "    old_label = nx.get_node_attributes(nx_g, 'old_label')\n",
    "\n",
    "    weights = nx.get_edge_attributes(nx_g, name='wt')  # WEIGHTS are stored in WT\n",
    "    if len(weights) == 0:\n",
    "        is_weighted = False\n",
    "        edge_list = list(nx_g.edges())\n",
    "    else:\n",
    "        is_weighted = True\n",
    "        edge_list = [(u, v, w) for (u, v), w in weights.items()]\n",
    "\n",
    "    is_directed = nx_g.is_directed()\n",
    "    ig_g = ig.Graph.TupleList(edges=edge_list, directed=is_directed,\n",
    "                              weights=is_weighted)\n",
    "\n",
    "#     logging.error(f'iGraph: n={ig_g.vcount()}\\tm={ig_g.ecount()}\\tweighted={is_weighted}\\tdirected={is_directed}')\n",
    "\n",
    "    for v in ig_g.vs:\n",
    "        v['name'] = str(old_label[v.index])  # store the original labels in the name attribute\n",
    "        v['label'] = str(v['name'])\n",
    "\n",
    "    return ig_g"
   ]
  },
  {
   "cell_type": "code",
   "execution_count": 64,
   "metadata": {},
   "outputs": [],
   "source": [
    "chains, cliques, cycles, wss, bas = [], [], [], [], []\n",
    "for n in range(10, 501, 10):\n",
    "    chains.append(nx.path_graph(n))\n",
    "    cliques.append(nx.complete_graph(n))\n",
    "    wss.append(nx.connected_watts_strogatz_graph(n, 3, 0.4))\n",
    "    bas.append(nx.barabasi_albert_graph(n, 3, 3))\n",
    "    cycles.append(nx.cycle_graph(n))"
   ]
  },
  {
   "cell_type": "code",
   "execution_count": 65,
   "metadata": {},
   "outputs": [],
   "source": [
    "def make_rows(graphs, kind):\n",
    "    rows = []\n",
    "    for g in graphs:\n",
    "        ig_g = nx_to_igraph(g)\n",
    "        row = {'kind': kind, 'n': g.order(), 'm': g.size(),\n",
    "               'CC': ig_g.transitivity_avglocal_undirected(mode='zero'), \n",
    "               'APL': ig_g.average_path_length()}\n",
    "        rows.append(row)\n",
    "    return pd.DataFrame(rows)"
   ]
  },
  {
   "cell_type": "code",
   "execution_count": 66,
   "metadata": {},
   "outputs": [],
   "source": [
    "dfs = []\n",
    "kinds = ['chain', 'clique', 'cycle', 'WS', 'BA']\n",
    "for kind, graphs in zip(kinds, (chains, cliques, cycles, wss, bas)):\n",
    "    df = make_rows(kind=kind, graphs=graphs)\n",
    "    dfs.append(df)\n",
    "    \n",
    "df = pd.concat(dfs, ignore_index=True)"
   ]
  },
  {
   "cell_type": "code",
   "execution_count": 67,
   "metadata": {},
   "outputs": [
    {
     "data": {
      "text/plain": [
       "array(['chain', 'clique', 'cycle', 'WS', 'BA'], dtype=object)"
      ]
     },
     "execution_count": 67,
     "metadata": {},
     "output_type": "execute_result"
    }
   ],
   "source": [
    "df.kind.unique()"
   ]
  },
  {
   "cell_type": "code",
   "execution_count": 74,
   "metadata": {},
   "outputs": [
    {
     "data": {
      "image/png": "[encoded data removed]",
      "text/plain": [
       "<Figure size 432x288 with 1 Axes>"
      ]
     },
     "metadata": {
      "needs_background": "light"
     },
     "output_type": "display_data"
    }
   ],
   "source": [
    "ax = plt.gca()\n",
    "# ax.set_xscale('log')\n",
    "sns.scatterplot(x='CC', y='APL', data=df, style='kind', hue='kind', alpha=0.4);"
   ]
  },
  {
   "cell_type": "code",
   "execution_count": 42,
   "metadata": {},
   "outputs": [],
   "source": [
    "ig_g = ig.Graph.Famous('Zachary')"
   ]
  },
  {
   "cell_type": "code",
   "execution_count": 52,
   "metadata": {},
   "outputs": [
    {
     "data": {
      "text/plain": [
       "0.5706384782076823"
      ]
     },
     "execution_count": 52,
     "metadata": {},
     "output_type": "execute_result"
    }
   ],
   "source": [
    "g = nx.karate_club_graph()\n",
    "nx.average_clustering(g)"
   ]
  },
  {
   "cell_type": "code",
   "execution_count": 53,
   "metadata": {},
   "outputs": [
    {
     "data": {
      "text/plain": [
       "0.2556818181818182"
      ]
     },
     "execution_count": 53,
     "metadata": {},
     "output_type": "execute_result"
    }
   ],
   "source": [
    "ig_g.transitivity_undirected(mode='zero')"
   ]
  },
  {
   "cell_type": "code",
   "execution_count": 54,
   "metadata": {},
   "outputs": [
    {
     "data": {
      "text/plain": [
       "0.5706384782076824"
      ]
     },
     "execution_count": 54,
     "metadata": {},
     "output_type": "execute_result"
    }
   ],
   "source": []
  },
  {
   "cell_type": "code",
   "execution_count": 48,
   "metadata": {},
   "outputs": [
    {
     "data": {
      "text/plain": [
       "2.408199643493761"
      ]
     },
     "execution_count": 48,
     "metadata": {},
     "output_type": "execute_result"
    }
   ],
   "source": [
    "ig_g.average_path_length()"
   ]
  },
  {
   "cell_type": "code",
   "execution_count": null,
   "metadata": {},
   "outputs": [],
   "source": []
  }
 ],
 "metadata": {
  "kernelspec": {
   "display_name": "Infinity Mirror",
   "language": "python",
   "name": "infinity-mirror"
  },
  "language_info": {
   "codemirror_mode": {
    "name": "ipython",
    "version": 3
   },
   "file_extension": ".py",
   "mimetype": "text/x-python",
   "name": "python",
   "nbconvert_exporter": "python",
   "pygments_lexer": "ipython3",
   "version": "3.7.5"
  }
 },
 "nbformat": 4,
 "nbformat_minor": 4
}
